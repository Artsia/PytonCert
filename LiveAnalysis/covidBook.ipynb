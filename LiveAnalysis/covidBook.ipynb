{
 "cells": [
  {
   "cell_type": "markdown",
   "metadata": {},
   "source": [
    "#### Import packages and retrieve data from file"
   ]
  },
  {
   "cell_type": "code",
   "execution_count": 13,
   "metadata": {},
   "outputs": [],
   "source": [
    "import json\n",
    "import pandas as pd\n",
    "with open('myfile.json') as f:\n",
    "    data = json.load(f)\n",
    "\n"
   ]
  },
  {
   "cell_type": "markdown",
   "metadata": {},
   "source": [
    "Data Overview first 10 rows"
   ]
  },
  {
   "cell_type": "code",
   "execution_count": 12,
   "metadata": {},
   "outputs": [
    {
     "name": "stdout",
     "output_type": "stream",
     "text": [
      "  FIPS Admin2                Province_State       Country_Region  \\\n",
      "0                                                    Afghanistan   \n",
      "1                                                        Albania   \n",
      "2                                                        Algeria   \n",
      "3                                                        Andorra   \n",
      "4                                                         Angola   \n",
      "5                                                     Antarctica   \n",
      "6                                            Antigua and Barbuda   \n",
      "7                                                      Argentina   \n",
      "8                                                        Armenia   \n",
      "9              Australian Capital Territory            Australia   \n",
      "\n",
      "           Last_Update       Lat      Long_  Confirmed  Deaths Recovered  \\\n",
      "0  2023-03-10 04:21:03  33.93911  67.709953     209451    7896             \n",
      "1  2023-03-10 04:21:03   41.1533    20.1683     334457    3598             \n",
      "2  2023-03-10 04:21:03   28.0339     1.6596     271496    6881             \n",
      "3  2023-03-10 04:21:03   42.5063     1.5218      47890     165             \n",
      "4  2023-03-10 04:21:03  -11.2027    17.8739     105288    1933             \n",
      "5  2023-03-10 04:21:03  -71.9499     23.347         11       0             \n",
      "6  2023-03-10 04:21:03   17.0608   -61.7964       9106     146             \n",
      "7  2023-03-10 04:21:03  -38.4161   -63.6167   10044957  130472             \n",
      "8  2023-03-10 04:21:03   40.0691    45.0382     447308    8727             \n",
      "9  2023-03-10 04:21:03  -35.4735   149.0124     232974     228             \n",
      "\n",
      "  Active                             Combined_Key       Incident_Rate  \\\n",
      "0                                     Afghanistan   538.0424508714615   \n",
      "1                                         Albania   11621.96817012996   \n",
      "2                                         Algeria    619.132365905185   \n",
      "3                                         Andorra   61981.49226687375   \n",
      "4                                          Angola  320.35277020195906   \n",
      "5                                      Antarctica                       \n",
      "6                             Antigua and Barbuda   9298.668409443671   \n",
      "7                                       Argentina   22225.43269916568   \n",
      "8                                         Armenia  15095.264160710898   \n",
      "9         Australian Capital Territory, Australia   54420.46250875964   \n",
      "\n",
      "   Case_Fatality_Ratio  \n",
      "0     3.76985547932452  \n",
      "1    1.075773567304616  \n",
      "2    2.534475646050034  \n",
      "3  0.34453956984756734  \n",
      "4    1.835916723653218  \n",
      "5                  0.0  \n",
      "6   1.6033384581594552  \n",
      "7   1.2988806223859395  \n",
      "8   1.9510046768669462  \n",
      "9  0.09786499781091453  \n"
     ]
    }
   ],
   "source": [
    "df = pd.read_json('myfile.json')\n",
    "print(df.head(10))"
   ]
  },
  {
   "cell_type": "markdown",
   "metadata": {},
   "source": [
    "last 10 rows"
   ]
  },
  {
   "cell_type": "code",
   "execution_count": 14,
   "metadata": {},
   "outputs": [
    {
     "name": "stdout",
     "output_type": "stream",
     "text": [
      "     FIPS Admin2 Province_State        Country_Region          Last_Update  \\\n",
      "4006                                          Uruguay  2023-03-10 04:21:03   \n",
      "4007                                       Uzbekistan  2023-03-10 04:21:03   \n",
      "4008                                          Vanuatu  2023-03-10 04:21:03   \n",
      "4009                                        Venezuela  2023-03-10 04:21:03   \n",
      "4010                                          Vietnam  2023-03-10 04:21:03   \n",
      "4011                               West Bank and Gaza  2023-03-10 04:21:03   \n",
      "4012                             Winter Olympics 2022  2023-03-10 04:21:03   \n",
      "4013                                            Yemen  2023-03-10 04:21:03   \n",
      "4014                                           Zambia  2023-03-10 04:21:03   \n",
      "4015                                         Zimbabwe  2023-03-10 04:21:03   \n",
      "\n",
      "             Lat       Long_  Confirmed  Deaths Recovered Active  \\\n",
      "4006    -32.5228    -55.7658    1034303    7617                    \n",
      "4007   41.377491   64.585262     251247    1637                    \n",
      "4008    -15.3767    166.9592      12014      14                    \n",
      "4009      6.4238    -66.5897     552162    5854                    \n",
      "4010   14.058324  108.277199   11526994   43186                    \n",
      "4011     31.9522     35.2332     703228    5708                    \n",
      "4012     39.9042    116.4074        535       0                    \n",
      "4013   15.552727   48.516388      11945    2159                    \n",
      "4014  -13.133897   27.849332     343135    4057                    \n",
      "4015  -19.015438   29.154857     264276    5671                    \n",
      "\n",
      "              Combined_Key       Incident_Rate Case_Fatality_Ratio  \n",
      "4006               Uruguay  29775.022619797124  0.7364379683709706  \n",
      "4007            Uzbekistan   750.6812457627086  0.6515500682595216  \n",
      "4008               Vanuatu   4104.824381577149  0.1165307141668054  \n",
      "4009             Venezuela   1941.774886804352  1.0601961018686545  \n",
      "4010               Vietnam  11842.163348525424  0.3746510148265888  \n",
      "4011    West Bank and Gaza  13784.956960969268  0.8116855415313383  \n",
      "4012  Winter Olympics 2022                                     0.0  \n",
      "4013                 Yemen   40.04899354817252   18.07450816241105  \n",
      "4014                Zambia   1866.491629984319  1.1823334839057513  \n",
      "4015              Zimbabwe  1778.0885285919792  2.1458626587355645  \n"
     ]
    }
   ],
   "source": [
    "print(df.tail(10))"
   ]
  },
  {
   "cell_type": "markdown",
   "metadata": {},
   "source": [
    "Python version used"
   ]
  },
  {
   "cell_type": "code",
   "execution_count": 5,
   "metadata": {},
   "outputs": [
    {
     "name": "stdout",
     "output_type": "stream",
     "text": [
      "2.0.3\n"
     ]
    }
   ],
   "source": [
    "print(pd.__version__)"
   ]
  },
  {
   "cell_type": "markdown",
   "metadata": {},
   "source": [
    "List number of columns and associated data types"
   ]
  },
  {
   "cell_type": "code",
   "execution_count": 15,
   "metadata": {},
   "outputs": [
    {
     "name": "stdout",
     "output_type": "stream",
     "text": [
      "<class 'pandas.core.frame.DataFrame'>\n",
      "RangeIndex: 4016 entries, 0 to 4015\n",
      "Data columns (total 14 columns):\n",
      " #   Column               Non-Null Count  Dtype \n",
      "---  ------               --------------  ----- \n",
      " 0   FIPS                 4016 non-null   object\n",
      " 1   Admin2               4016 non-null   object\n",
      " 2   Province_State       4016 non-null   object\n",
      " 3   Country_Region       4016 non-null   object\n",
      " 4   Last_Update          4016 non-null   object\n",
      " 5   Lat                  4016 non-null   object\n",
      " 6   Long_                4016 non-null   object\n",
      " 7   Confirmed            4016 non-null   int64 \n",
      " 8   Deaths               4016 non-null   int64 \n",
      " 9   Recovered            4016 non-null   object\n",
      " 10  Active               4016 non-null   object\n",
      " 11  Combined_Key         4016 non-null   object\n",
      " 12  Incident_Rate        4016 non-null   object\n",
      " 13  Case_Fatality_Ratio  4016 non-null   object\n",
      "dtypes: int64(2), object(12)\n",
      "memory usage: 439.4+ KB\n",
      "None\n"
     ]
    }
   ],
   "source": [
    "print(df.info())"
   ]
  },
  {
   "cell_type": "markdown",
   "metadata": {},
   "source": [
    "There are 4016 rows indexed from (0 to 4016). \n",
    "\n",
    "There are 14 columns.\n",
    "\n",
    "there are no null values in the initial dataset.\n"
   ]
  },
  {
   "cell_type": "markdown",
   "metadata": {},
   "source": [
    "Duplication Removal\n"
   ]
  },
  {
   "cell_type": "code",
   "execution_count": 16,
   "metadata": {},
   "outputs": [
    {
     "name": "stdout",
     "output_type": "stream",
     "text": [
      "Data set has duplicated rows?  0       False\n",
      "1       False\n",
      "2       False\n",
      "3       False\n",
      "4       False\n",
      "        ...  \n",
      "4011    False\n",
      "4012    False\n",
      "4013    False\n",
      "4014    False\n",
      "4015    False\n",
      "Length: 4016, dtype: bool\n"
     ]
    }
   ],
   "source": [
    "print(\"Data set has duplicated rows? \", df.duplicated())"
   ]
  },
  {
   "cell_type": "markdown",
   "metadata": {},
   "source": [
    "If dataset hadd duplicates, we can use the \"drop_duplicates(inplace = True)\" method"
   ]
  },
  {
   "cell_type": "markdown",
   "metadata": {},
   "source": [
    "Find Correlations between each coloum in dataset"
   ]
  },
  {
   "cell_type": "markdown",
   "metadata": {},
   "source": [
    "Separate all 14 columns "
   ]
  },
  {
   "cell_type": "code",
   "execution_count": 24,
   "metadata": {},
   "outputs": [
    {
     "name": "stdout",
     "output_type": "stream",
     "text": [
      "<pandas.core.indexing._LocIndexer object at 0x0000023A8D665C70>\n"
     ]
    }
   ],
   "source": [
    "c1 = pd.Series(df.loc(1))\n",
    "#https://www.w3schools.com/python/pandas/pandas_correlations.asp"
   ]
  },
  {
   "cell_type": "markdown",
   "metadata": {},
   "source": [
    "use python lib to visualize json data"
   ]
  }
 ],
 "metadata": {
  "kernelspec": {
   "display_name": "Python 3",
   "language": "python",
   "name": "python3"
  },
  "language_info": {
   "codemirror_mode": {
    "name": "ipython",
    "version": 3
   },
   "file_extension": ".py",
   "mimetype": "text/x-python",
   "name": "python",
   "nbconvert_exporter": "python",
   "pygments_lexer": "ipython3",
   "version": "3.11.4"
  },
  "orig_nbformat": 4
 },
 "nbformat": 4,
 "nbformat_minor": 2
}
